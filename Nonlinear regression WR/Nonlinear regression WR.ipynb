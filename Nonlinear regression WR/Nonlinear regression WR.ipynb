{
 "cells": [
  {
   "cell_type": "code",
   "execution_count": 2,
   "metadata": {
    "scrolled": true,
    "tags": []
   },
   "outputs": [],
   "source": [
    "using Pkg,Statistics,Random,Printf,Knet,Plots,LinearAlgebra,Distributions,StatsBase, SpecialFunctions, DelimitedFiles"
   ]
  },
  {
   "cell_type": "markdown",
   "metadata": {},
   "source": [
    "## Generate training data"
   ]
  },
  {
   "cell_type": "code",
   "execution_count": 3,
   "metadata": {
    "tags": []
   },
   "outputs": [],
   "source": [
    "Random.seed!(1);\n",
    "Range=3.0; # range of the x values for the target Gaussian function\n",
    "Incr = 0.03; # Number of training examples = 3.0/0.03 = 100\n",
    "Noise_std=0.1; # add noise on the Gaussian function"
   ]
  },
  {
   "cell_type": "code",
   "execution_count": 4,
   "metadata": {
    "tags": []
   },
   "outputs": [
    {
     "data": {
      "text/plain": [
       "gen_noisy_gaussian (generic function with 1 method)"
      ]
     },
     "execution_count": 4,
     "metadata": {},
     "output_type": "execute_result"
    }
   ],
   "source": [
    "# generate the data from which we'll learn the Gaussian function\n",
    "# obligatory arguments listed before \";\" while optional arguments come after \";\".\n",
    "function gen_noisy_gaussian(;range=1.0,noise=0.1)\n",
    "    x = collect(-Range:Incr:Range)\n",
    "    y = exp.(-x.^2) + randn(length(x))*noise; # additive gaussian noise\n",
    "    return (x,y)\n",
    "end\n",
    "# output is two vectors x,y"
   ]
  },
  {
   "cell_type": "code",
   "execution_count": 5,
   "metadata": {
    "tags": []
   },
   "outputs": [],
   "source": [
    "# Generate a new training data set\n",
    "(x_train,y_train) = gen_noisy_gaussian(range=Range,noise=Noise_std);\n",
    "pop!(x_train);pop!(y_train);"
   ]
  },
  {
   "cell_type": "code",
   "execution_count": 17,
   "metadata": {
    "tags": []
   },
   "outputs": [],
   "source": [
    "#Uncomment to load training set used in paper\n",
    "#x_train=readdlm(\"x_train.txt\");\n",
    "#y_train=readdlm(\"y_train.txt\");"
   ]
  },
  {
   "cell_type": "code",
   "execution_count": 38,
   "metadata": {
    "tags": []
   },
   "outputs": [
    {
     "data": {
      "text/plain": [
       "200"
      ]
     },
     "execution_count": 38,
     "metadata": {},
     "output_type": "execute_result"
    }
   ],
   "source": [
    "Ntrain =length(x_train) # number of training data points"
   ]
  },
  {
   "cell_type": "code",
   "execution_count": 19,
   "metadata": {
    "tags": []
   },
   "outputs": [
    {
     "data": {
      "image/svg+xml": [
       "<?xml version=\"1.0\" encoding=\"utf-8\"?>\n",
       "<svg xmlns=\"http://www.w3.org/2000/svg\" xmlns:xlink=\"http://www.w3.org/1999/xlink\" width=\"600\" height=\"400\" viewBox=\"0 0 2400 1600\">\n",
       "<defs>\n",
       "  <clipPath id=\"clip210\">\n",
       "    <rect x=\"0\" y=\"0\" width=\"2400\" height=\"1600\"/>\n",
       "  </clipPath>\n",
       "</defs>\n",
       "<path clip-path=\"url(#clip210)\" d=\"M0 1600 L2400 1600 L2400 0 L0 0  Z\" fill=\"#ffffff\" fill-rule=\"evenodd\" fill-opacity=\"1\"/>\n",
       "<defs>\n",
       "  <clipPath id=\"clip211\">\n",
       "    <rect x=\"480\" y=\"0\" width=\"1681\" height=\"1600\"/>\n",
       "  </clipPath>\n",
       "</defs>\n",
       "<path clip-path=\"url(#clip210)\" d=\"M156.274 1486.45 L2352.76 1486.45 L2352.76 47.2441 L156.274 47.2441  Z\" fill=\"#ffffff\" fill-rule=\"evenodd\" fill-opacity=\"1\"/>\n",
       "<defs>\n",
       "  <clipPath id=\"clip212\">\n",
       "    <rect x=\"156\" y=\"47\" width=\"2197\" height=\"1440\"/>\n",
       "  </clipPath>\n",
       "</defs>\n",
       "<polyline clip-path=\"url(#clip212)\" style=\"stroke:#000000; stroke-linecap:round; stroke-linejoin:round; stroke-width:2; stroke-opacity:0.1; fill:none\" points=\"218.439,1486.45 218.439,47.2441 \"/>\n",
       "<polyline clip-path=\"url(#clip212)\" style=\"stroke:#000000; stroke-linecap:round; stroke-linejoin:round; stroke-width:2; stroke-opacity:0.1; fill:none\" points=\"565.533,1486.45 565.533,47.2441 \"/>\n",
       "<polyline clip-path=\"url(#clip212)\" style=\"stroke:#000000; stroke-linecap:round; stroke-linejoin:round; stroke-width:2; stroke-opacity:0.1; fill:none\" points=\"912.627,1486.45 912.627,47.2441 \"/>\n",
       "<polyline clip-path=\"url(#clip212)\" style=\"stroke:#000000; stroke-linecap:round; stroke-linejoin:round; stroke-width:2; stroke-opacity:0.1; fill:none\" points=\"1259.72,1486.45 1259.72,47.2441 \"/>\n",
       "<polyline clip-path=\"url(#clip212)\" style=\"stroke:#000000; stroke-linecap:round; stroke-linejoin:round; stroke-width:2; stroke-opacity:0.1; fill:none\" points=\"1606.82,1486.45 1606.82,47.2441 \"/>\n",
       "<polyline clip-path=\"url(#clip212)\" style=\"stroke:#000000; stroke-linecap:round; stroke-linejoin:round; stroke-width:2; stroke-opacity:0.1; fill:none\" points=\"1953.91,1486.45 1953.91,47.2441 \"/>\n",
       "<polyline clip-path=\"url(#clip212)\" style=\"stroke:#000000; stroke-linecap:round; stroke-linejoin:round; stroke-width:2; stroke-opacity:0.1; fill:none\" points=\"2301,1486.45 2301,47.2441 \"/>\n",
       "<polyline clip-path=\"url(#clip210)\" style=\"stroke:#000000; stroke-linecap:round; stroke-linejoin:round; stroke-width:4; stroke-opacity:1; fill:none\" points=\"156.274,1486.45 2352.76,1486.45 \"/>\n",
       "<polyline clip-path=\"url(#clip210)\" style=\"stroke:#000000; stroke-linecap:round; stroke-linejoin:round; stroke-width:4; stroke-opacity:1; fill:none\" points=\"218.439,1486.45 218.439,1467.55 \"/>\n",
       "<polyline clip-path=\"url(#clip210)\" style=\"stroke:#000000; stroke-linecap:round; stroke-linejoin:round; stroke-width:4; stroke-opacity:1; fill:none\" points=\"565.533,1486.45 565.533,1467.55 \"/>\n",
       "<polyline clip-path=\"url(#clip210)\" style=\"stroke:#000000; stroke-linecap:round; stroke-linejoin:round; stroke-width:4; stroke-opacity:1; fill:none\" points=\"912.627,1486.45 912.627,1467.55 \"/>\n",
       "<polyline clip-path=\"url(#clip210)\" style=\"stroke:#000000; stroke-linecap:round; stroke-linejoin:round; stroke-width:4; stroke-opacity:1; fill:none\" points=\"1259.72,1486.45 1259.72,1467.55 \"/>\n",
       "<polyline clip-path=\"url(#clip210)\" style=\"stroke:#000000; stroke-linecap:round; stroke-linejoin:round; stroke-width:4; stroke-opacity:1; fill:none\" points=\"1606.82,1486.45 1606.82,1467.55 \"/>\n",
       "<polyline clip-path=\"url(#clip210)\" style=\"stroke:#000000; stroke-linecap:round; stroke-linejoin:round; stroke-width:4; stroke-opacity:1; fill:none\" points=\"1953.91,1486.45 1953.91,1467.55 \"/>\n",
       "<polyline clip-path=\"url(#clip210)\" style=\"stroke:#000000; stroke-linecap:round; stroke-linejoin:round; stroke-width:4; stroke-opacity:1; fill:none\" points=\"2301,1486.45 2301,1467.55 \"/>\n",
       "<path clip-path=\"url(#clip210)\" d=\"M187.906 1532.02 L217.582 1532.02 L217.582 1535.95 L187.906 1535.95 L187.906 1532.02 Z\" fill=\"#000000\" fill-rule=\"nonzero\" fill-opacity=\"1\" /><path clip-path=\"url(#clip210)\" d=\"M241.841 1530.21 Q245.198 1530.93 247.073 1533.2 Q248.971 1535.47 248.971 1538.8 Q248.971 1543.92 245.452 1546.72 Q241.934 1549.52 235.453 1549.52 Q233.277 1549.52 230.962 1549.08 Q228.67 1548.66 226.216 1547.81 L226.216 1543.29 Q228.161 1544.43 230.476 1545.01 Q232.791 1545.58 235.314 1545.58 Q239.712 1545.58 242.003 1543.85 Q244.318 1542.11 244.318 1538.8 Q244.318 1535.75 242.165 1534.03 Q240.036 1532.3 236.216 1532.3 L232.189 1532.3 L232.189 1528.45 L236.402 1528.45 Q239.851 1528.45 241.679 1527.09 Q243.508 1525.7 243.508 1523.11 Q243.508 1520.45 241.61 1519.03 Q239.735 1517.6 236.216 1517.6 Q234.295 1517.6 232.096 1518.01 Q229.897 1518.43 227.258 1519.31 L227.258 1515.14 Q229.92 1514.4 232.235 1514.03 Q234.573 1513.66 236.633 1513.66 Q241.957 1513.66 245.059 1516.09 Q248.161 1518.5 248.161 1522.62 Q248.161 1525.49 246.517 1527.48 Q244.874 1529.45 241.841 1530.21 Z\" fill=\"#000000\" fill-rule=\"nonzero\" fill-opacity=\"1\" /><path clip-path=\"url(#clip210)\" d=\"M535.475 1532.02 L565.151 1532.02 L565.151 1535.95 L535.475 1535.95 L535.475 1532.02 Z\" fill=\"#000000\" fill-rule=\"nonzero\" fill-opacity=\"1\" /><path clip-path=\"url(#clip210)\" d=\"M579.271 1544.91 L595.591 1544.91 L595.591 1548.85 L573.646 1548.85 L573.646 1544.91 Q576.308 1542.16 580.892 1537.53 Q585.498 1532.88 586.679 1531.53 Q588.924 1529.01 589.804 1527.27 Q590.706 1525.51 590.706 1523.82 Q590.706 1521.07 588.762 1519.33 Q586.841 1517.6 583.739 1517.6 Q581.54 1517.6 579.086 1518.36 Q576.656 1519.13 573.878 1520.68 L573.878 1515.95 Q576.702 1514.82 579.156 1514.24 Q581.609 1513.66 583.646 1513.66 Q589.017 1513.66 592.211 1516.35 Q595.406 1519.03 595.406 1523.52 Q595.406 1525.65 594.595 1527.57 Q593.808 1529.47 591.702 1532.07 Q591.123 1532.74 588.021 1535.95 Q584.919 1539.15 579.271 1544.91 Z\" fill=\"#000000\" fill-rule=\"nonzero\" fill-opacity=\"1\" /><path clip-path=\"url(#clip210)\" d=\"M882.384 1532.02 L912.06 1532.02 L912.06 1535.95 L882.384 1535.95 L882.384 1532.02 Z\" fill=\"#000000\" fill-rule=\"nonzero\" fill-opacity=\"1\" /><path clip-path=\"url(#clip210)\" d=\"M922.963 1544.91 L930.602 1544.91 L930.602 1518.55 L922.292 1520.21 L922.292 1515.95 L930.555 1514.29 L935.231 1514.29 L935.231 1544.91 L942.87 1544.91 L942.87 1548.85 L922.963 1548.85 L922.963 1544.91 Z\" fill=\"#000000\" fill-rule=\"nonzero\" fill-opacity=\"1\" /><path clip-path=\"url(#clip210)\" d=\"M1259.72 1517.37 Q1256.11 1517.37 1254.28 1520.93 Q1252.48 1524.47 1252.48 1531.6 Q1252.48 1538.71 1254.28 1542.27 Q1256.11 1545.82 1259.72 1545.82 Q1263.36 1545.82 1265.16 1542.27 Q1266.99 1538.71 1266.99 1531.6 Q1266.99 1524.47 1265.16 1520.93 Q1263.36 1517.37 1259.72 1517.37 M1259.72 1513.66 Q1265.53 1513.66 1268.59 1518.27 Q1271.67 1522.85 1271.67 1531.6 Q1271.67 1540.33 1268.59 1544.94 Q1265.53 1549.52 1259.72 1549.52 Q1253.91 1549.52 1250.83 1544.94 Q1247.78 1540.33 1247.78 1531.6 Q1247.78 1522.85 1250.83 1518.27 Q1253.91 1513.66 1259.72 1513.66 Z\" fill=\"#000000\" fill-rule=\"nonzero\" fill-opacity=\"1\" /><path clip-path=\"url(#clip210)\" d=\"M1597.2 1544.91 L1604.84 1544.91 L1604.84 1518.55 L1596.53 1520.21 L1596.53 1515.95 L1604.79 1514.29 L1609.47 1514.29 L1609.47 1544.91 L1617.1 1544.91 L1617.1 1548.85 L1597.2 1548.85 L1597.2 1544.91 Z\" fill=\"#000000\" fill-rule=\"nonzero\" fill-opacity=\"1\" /><path clip-path=\"url(#clip210)\" d=\"M1948.56 1544.91 L1964.88 1544.91 L1964.88 1548.85 L1942.94 1548.85 L1942.94 1544.91 Q1945.6 1542.16 1950.18 1537.53 Q1954.79 1532.88 1955.97 1531.53 Q1958.22 1529.01 1959.1 1527.27 Q1960 1525.51 1960 1523.82 Q1960 1521.07 1958.05 1519.33 Q1956.13 1517.6 1953.03 1517.6 Q1950.83 1517.6 1948.38 1518.36 Q1945.95 1519.13 1943.17 1520.68 L1943.17 1515.95 Q1945.99 1514.82 1948.45 1514.24 Q1950.9 1513.66 1952.94 1513.66 Q1958.31 1513.66 1961.5 1516.35 Q1964.7 1519.03 1964.7 1523.52 Q1964.7 1525.65 1963.89 1527.57 Q1963.1 1529.47 1960.99 1532.07 Q1960.41 1532.74 1957.31 1535.95 Q1954.21 1539.15 1948.56 1544.91 Z\" fill=\"#000000\" fill-rule=\"nonzero\" fill-opacity=\"1\" /><path clip-path=\"url(#clip210)\" d=\"M2305.25 1530.21 Q2308.61 1530.93 2310.48 1533.2 Q2312.38 1535.47 2312.38 1538.8 Q2312.38 1543.92 2308.86 1546.72 Q2305.34 1549.52 2298.86 1549.52 Q2296.69 1549.52 2294.37 1549.08 Q2292.08 1548.66 2289.63 1547.81 L2289.63 1543.29 Q2291.57 1544.43 2293.89 1545.01 Q2296.2 1545.58 2298.72 1545.58 Q2303.12 1545.58 2305.41 1543.85 Q2307.73 1542.11 2307.73 1538.8 Q2307.73 1535.75 2305.58 1534.03 Q2303.45 1532.3 2299.63 1532.3 L2295.6 1532.3 L2295.6 1528.45 L2299.81 1528.45 Q2303.26 1528.45 2305.09 1527.09 Q2306.92 1525.7 2306.92 1523.11 Q2306.92 1520.45 2305.02 1519.03 Q2303.15 1517.6 2299.63 1517.6 Q2297.71 1517.6 2295.51 1518.01 Q2293.31 1518.43 2290.67 1519.31 L2290.67 1515.14 Q2293.33 1514.4 2295.65 1514.03 Q2297.98 1513.66 2300.04 1513.66 Q2305.37 1513.66 2308.47 1516.09 Q2311.57 1518.5 2311.57 1522.62 Q2311.57 1525.49 2309.93 1527.48 Q2308.28 1529.45 2305.25 1530.21 Z\" fill=\"#000000\" fill-rule=\"nonzero\" fill-opacity=\"1\" /><polyline clip-path=\"url(#clip212)\" style=\"stroke:#000000; stroke-linecap:round; stroke-linejoin:round; stroke-width:2; stroke-opacity:0.1; fill:none\" points=\"156.274,1221.67 2352.76,1221.67 \"/>\n",
       "<polyline clip-path=\"url(#clip212)\" style=\"stroke:#000000; stroke-linecap:round; stroke-linejoin:round; stroke-width:2; stroke-opacity:0.1; fill:none\" points=\"156.274,924.44 2352.76,924.44 \"/>\n",
       "<polyline clip-path=\"url(#clip212)\" style=\"stroke:#000000; stroke-linecap:round; stroke-linejoin:round; stroke-width:2; stroke-opacity:0.1; fill:none\" points=\"156.274,627.207 2352.76,627.207 \"/>\n",
       "<polyline clip-path=\"url(#clip212)\" style=\"stroke:#000000; stroke-linecap:round; stroke-linejoin:round; stroke-width:2; stroke-opacity:0.1; fill:none\" points=\"156.274,329.974 2352.76,329.974 \"/>\n",
       "<polyline clip-path=\"url(#clip210)\" style=\"stroke:#000000; stroke-linecap:round; stroke-linejoin:round; stroke-width:4; stroke-opacity:1; fill:none\" points=\"156.274,1486.45 156.274,47.2441 \"/>\n",
       "<polyline clip-path=\"url(#clip210)\" style=\"stroke:#000000; stroke-linecap:round; stroke-linejoin:round; stroke-width:4; stroke-opacity:1; fill:none\" points=\"156.274,1221.67 175.172,1221.67 \"/>\n",
       "<polyline clip-path=\"url(#clip210)\" style=\"stroke:#000000; stroke-linecap:round; stroke-linejoin:round; stroke-width:4; stroke-opacity:1; fill:none\" points=\"156.274,924.44 175.172,924.44 \"/>\n",
       "<polyline clip-path=\"url(#clip210)\" style=\"stroke:#000000; stroke-linecap:round; stroke-linejoin:round; stroke-width:4; stroke-opacity:1; fill:none\" points=\"156.274,627.207 175.172,627.207 \"/>\n",
       "<polyline clip-path=\"url(#clip210)\" style=\"stroke:#000000; stroke-linecap:round; stroke-linejoin:round; stroke-width:4; stroke-opacity:1; fill:none\" points=\"156.274,329.974 175.172,329.974 \"/>\n",
       "<path clip-path=\"url(#clip210)\" d=\"M63.0985 1207.47 Q59.4875 1207.47 57.6588 1211.04 Q55.8532 1214.58 55.8532 1221.71 Q55.8532 1228.81 57.6588 1232.38 Q59.4875 1235.92 63.0985 1235.92 Q66.7328 1235.92 68.5383 1232.38 Q70.367 1228.81 70.367 1221.71 Q70.367 1214.58 68.5383 1211.04 Q66.7328 1207.47 63.0985 1207.47 M63.0985 1203.77 Q68.9087 1203.77 71.9642 1208.37 Q75.0429 1212.96 75.0429 1221.71 Q75.0429 1230.43 71.9642 1235.04 Q68.9087 1239.62 63.0985 1239.62 Q57.2884 1239.62 54.2097 1235.04 Q51.1542 1230.43 51.1542 1221.71 Q51.1542 1212.96 54.2097 1208.37 Q57.2884 1203.77 63.0985 1203.77 Z\" fill=\"#000000\" fill-rule=\"nonzero\" fill-opacity=\"1\" /><path clip-path=\"url(#clip210)\" d=\"M83.2605 1233.07 L88.1447 1233.07 L88.1447 1238.95 L83.2605 1238.95 L83.2605 1233.07 Z\" fill=\"#000000\" fill-rule=\"nonzero\" fill-opacity=\"1\" /><path clip-path=\"url(#clip210)\" d=\"M108.33 1207.47 Q104.719 1207.47 102.89 1211.04 Q101.084 1214.58 101.084 1221.71 Q101.084 1228.81 102.89 1232.38 Q104.719 1235.92 108.33 1235.92 Q111.964 1235.92 113.77 1232.38 Q115.598 1228.81 115.598 1221.71 Q115.598 1214.58 113.77 1211.04 Q111.964 1207.47 108.33 1207.47 M108.33 1203.77 Q114.14 1203.77 117.195 1208.37 Q120.274 1212.96 120.274 1221.71 Q120.274 1230.43 117.195 1235.04 Q114.14 1239.62 108.33 1239.62 Q102.52 1239.62 99.4409 1235.04 Q96.3854 1230.43 96.3854 1221.71 Q96.3854 1212.96 99.4409 1208.37 Q102.52 1203.77 108.33 1203.77 Z\" fill=\"#000000\" fill-rule=\"nonzero\" fill-opacity=\"1\" /><path clip-path=\"url(#clip210)\" d=\"M63.7467 910.238 Q60.1356 910.238 58.3069 913.803 Q56.5014 917.345 56.5014 924.474 Q56.5014 931.581 58.3069 935.146 Q60.1356 938.687 63.7467 938.687 Q67.3809 938.687 69.1865 935.146 Q71.0152 931.581 71.0152 924.474 Q71.0152 917.345 69.1865 913.803 Q67.3809 910.238 63.7467 910.238 M63.7467 906.535 Q69.5568 906.535 72.6124 911.141 Q75.6911 915.724 75.6911 924.474 Q75.6911 933.201 72.6124 937.808 Q69.5568 942.391 63.7467 942.391 Q57.9365 942.391 54.8578 937.808 Q51.8023 933.201 51.8023 924.474 Q51.8023 915.724 54.8578 911.141 Q57.9365 906.535 63.7467 906.535 Z\" fill=\"#000000\" fill-rule=\"nonzero\" fill-opacity=\"1\" /><path clip-path=\"url(#clip210)\" d=\"M83.9086 935.84 L88.7928 935.84 L88.7928 941.72 L83.9086 941.72 L83.9086 935.84 Z\" fill=\"#000000\" fill-rule=\"nonzero\" fill-opacity=\"1\" /><path clip-path=\"url(#clip210)\" d=\"M113.145 923.085 Q116.501 923.803 118.376 926.072 Q120.274 928.34 120.274 931.673 Q120.274 936.789 116.756 939.59 Q113.237 942.391 106.756 942.391 Q104.58 942.391 102.265 941.951 Q99.9733 941.534 97.5197 940.678 L97.5197 936.164 Q99.4641 937.298 101.779 937.877 Q104.094 938.456 106.617 938.456 Q111.015 938.456 113.307 936.72 Q115.621 934.983 115.621 931.673 Q115.621 928.618 113.469 926.905 Q111.339 925.169 107.52 925.169 L103.492 925.169 L103.492 921.326 L107.705 921.326 Q111.154 921.326 112.983 919.96 Q114.811 918.572 114.811 915.979 Q114.811 913.317 112.913 911.905 Q111.038 910.47 107.52 910.47 Q105.598 910.47 103.399 910.886 Q101.2 911.303 98.5613 912.183 L98.5613 908.016 Q101.223 907.275 103.538 906.905 Q105.876 906.535 107.936 906.535 Q113.26 906.535 116.362 908.965 Q119.464 911.373 119.464 915.493 Q119.464 918.363 117.82 920.354 Q116.177 922.322 113.145 923.085 Z\" fill=\"#000000\" fill-rule=\"nonzero\" fill-opacity=\"1\" /><path clip-path=\"url(#clip210)\" d=\"M62.9365 613.005 Q59.3254 613.005 57.4967 616.57 Q55.6912 620.112 55.6912 627.241 Q55.6912 634.348 57.4967 637.913 Q59.3254 641.454 62.9365 641.454 Q66.5707 641.454 68.3763 637.913 Q70.205 634.348 70.205 627.241 Q70.205 620.112 68.3763 616.57 Q66.5707 613.005 62.9365 613.005 M62.9365 609.302 Q68.7467 609.302 71.8022 613.908 Q74.8809 618.491 74.8809 627.241 Q74.8809 635.968 71.8022 640.575 Q68.7467 645.158 62.9365 645.158 Q57.1264 645.158 54.0477 640.575 Q50.9921 635.968 50.9921 627.241 Q50.9921 618.491 54.0477 613.908 Q57.1264 609.302 62.9365 609.302 Z\" fill=\"#000000\" fill-rule=\"nonzero\" fill-opacity=\"1\" /><path clip-path=\"url(#clip210)\" d=\"M83.0984 638.607 L87.9827 638.607 L87.9827 644.487 L83.0984 644.487 L83.0984 638.607 Z\" fill=\"#000000\" fill-rule=\"nonzero\" fill-opacity=\"1\" /><path clip-path=\"url(#clip210)\" d=\"M108.746 625.343 Q105.598 625.343 103.746 627.496 Q101.918 629.649 101.918 633.399 Q101.918 637.126 103.746 639.301 Q105.598 641.454 108.746 641.454 Q111.895 641.454 113.723 639.301 Q115.575 637.126 115.575 633.399 Q115.575 629.649 113.723 627.496 Q111.895 625.343 108.746 625.343 M118.029 610.691 L118.029 614.95 Q116.27 614.116 114.464 613.677 Q112.682 613.237 110.922 613.237 Q106.293 613.237 103.839 616.362 Q101.409 619.487 101.061 625.806 Q102.427 623.792 104.487 622.727 Q106.547 621.64 109.024 621.64 Q114.233 621.64 117.242 624.811 Q120.274 627.959 120.274 633.399 Q120.274 638.723 117.126 641.94 Q113.978 645.158 108.746 645.158 Q102.751 645.158 99.5798 640.575 Q96.4085 635.968 96.4085 627.241 Q96.4085 619.047 100.297 614.186 Q104.186 609.302 110.737 609.302 Q112.496 609.302 114.279 609.649 Q116.084 609.996 118.029 610.691 Z\" fill=\"#000000\" fill-rule=\"nonzero\" fill-opacity=\"1\" /><path clip-path=\"url(#clip210)\" d=\"M63.2837 315.772 Q59.6726 315.772 57.8439 319.337 Q56.0384 322.879 56.0384 330.008 Q56.0384 337.115 57.8439 340.68 Q59.6726 344.221 63.2837 344.221 Q66.918 344.221 68.7235 340.68 Q70.5522 337.115 70.5522 330.008 Q70.5522 322.879 68.7235 319.337 Q66.918 315.772 63.2837 315.772 M63.2837 312.069 Q69.0939 312.069 72.1494 316.675 Q75.2281 321.258 75.2281 330.008 Q75.2281 338.735 72.1494 343.342 Q69.0939 347.925 63.2837 347.925 Q57.4736 347.925 54.3949 343.342 Q51.3393 338.735 51.3393 330.008 Q51.3393 321.258 54.3949 316.675 Q57.4736 312.069 63.2837 312.069 Z\" fill=\"#000000\" fill-rule=\"nonzero\" fill-opacity=\"1\" /><path clip-path=\"url(#clip210)\" d=\"M83.4457 341.374 L88.3299 341.374 L88.3299 347.254 L83.4457 347.254 L83.4457 341.374 Z\" fill=\"#000000\" fill-rule=\"nonzero\" fill-opacity=\"1\" /><path clip-path=\"url(#clip210)\" d=\"M98.6539 346.536 L98.6539 342.277 Q100.413 343.11 102.219 343.55 Q104.024 343.99 105.76 343.99 Q110.39 343.99 112.82 340.888 Q115.274 337.763 115.621 331.42 Q114.279 333.411 112.219 334.476 Q110.158 335.541 107.658 335.541 Q102.473 335.541 99.4409 332.416 Q96.4317 329.268 96.4317 323.828 Q96.4317 318.504 99.5798 315.286 Q102.728 312.069 107.959 312.069 Q113.955 312.069 117.103 316.675 Q120.274 321.258 120.274 330.008 Q120.274 338.18 116.385 343.064 Q112.52 347.925 105.969 347.925 Q104.209 347.925 102.404 347.578 Q100.598 347.231 98.6539 346.536 M107.959 331.883 Q111.108 331.883 112.936 329.731 Q114.788 327.578 114.788 323.828 Q114.788 320.101 112.936 317.948 Q111.108 315.772 107.959 315.772 Q104.811 315.772 102.959 317.948 Q101.131 320.101 101.131 323.828 Q101.131 327.578 102.959 329.731 Q104.811 331.883 107.959 331.883 Z\" fill=\"#000000\" fill-rule=\"nonzero\" fill-opacity=\"1\" /><polyline clip-path=\"url(#clip212)\" style=\"stroke:#009af9; stroke-linecap:round; stroke-linejoin:round; stroke-width:4; stroke-opacity:1; fill:none\" points=\"218.439,1192.1 228.852,1183.64 239.264,1280.71 249.677,1222.5 260.09,1304.55 270.503,1190.55 280.916,993.932 291.329,1347.75 301.741,1198.5 312.154,1445.72 322.567,1168.49 332.98,1178.13 343.393,1162.91 353.805,1125.14 364.218,1174.94 374.631,1271.94 385.044,1179.48 395.457,1224.66 405.87,1288.07 416.282,1394.72 426.695,1206.59 437.108,1293.13 447.521,1388.9 457.934,1138.04 468.347,1149.81 478.759,1160.82 489.172,1220.78 499.585,1081.03 509.998,1219.59 520.411,1284.92 530.824,1330.51 541.236,1213.29 551.649,1222.59 562.062,1413.83 572.475,1208.64 582.888,1078.44 593.301,1140.6 603.713,1118.19 614.126,1153.01 624.539,1250.84 634.952,1248.72 645.365,1357.12 655.777,1301.4 666.19,1201.67 676.603,1155.78 687.016,1122.7 697.429,977.942 707.842,1013.81 718.254,1114.32 728.667,1226.27 739.08,1201.47 749.493,995.615 759.906,1230.71 770.319,963.095 780.731,1079.65 791.144,986.303 801.557,1051.19 811.97,1069.83 822.383,1218.02 832.796,1059.8 843.208,1100.83 853.621,783.305 864.034,1097.25 874.447,985.711 884.86,1008.52 895.272,1029.93 905.685,858.312 916.098,910.904 926.511,997.873 936.924,772.682 947.337,924.32 957.749,805.654 968.162,773.343 978.575,608.319 988.988,566.087 999.401,788.618 1009.81,789.544 1020.23,649.667 1030.64,459.313 1041.05,366.643 1051.46,447.03 1061.88,358.202 1072.29,267.544 1082.7,547.918 1093.12,321.059 1103.53,462.56 1113.94,417.582 1124.35,222.167 1134.77,272.333 1145.18,350.13 1155.59,362.646 1166.01,278.992 1176.42,250.769 1186.83,241.933 1197.24,236.8 1207.66,207.394 1218.07,224.256 1228.48,87.9763 1238.9,109.639 1249.31,248.163 1259.72,215.421 1270.13,312.468 1280.55,403.866 1290.96,90.2786 1301.37,257.834 1311.79,297.543 1322.2,415.729 1332.61,468.5 1343.02,145.158 1353.44,340.048 1363.85,230.433 1374.26,484.206 1384.68,353.155 1395.09,433.092 1405.5,351.546 1415.91,446.862 1426.33,421.729 1436.74,330.262 1447.15,418.949 1457.57,627.973 1467.98,615.498 1478.39,529.885 1488.8,725.415 1499.22,555.718 1509.63,755.133 1520.04,789.082 1530.45,817.289 1540.87,653.796 1551.28,993.385 1561.69,742.029 1572.11,945.265 1582.52,1076.79 1592.93,868.881 1603.34,991.673 1613.76,757.276 1624.17,940.8 1634.58,836.231 1645,857.775 1655.41,1112.72 1665.82,1063.23 1676.23,921.705 1686.65,1047.91 1697.06,901.724 1707.47,838.715 1717.89,1055.52 1728.3,1077.1 1738.71,1094.16 1749.12,1230.44 1759.54,919.023 1769.95,1197.33 1780.36,1213.37 1790.78,1202.5 1801.19,1174 1811.6,1095.52 1822.01,1086.58 1832.43,1196.08 1842.84,1170.72 1853.25,1069.19 1863.67,1243.52 1874.08,1320.57 1884.49,1139.8 1894.9,1196.01 1905.32,1236.5 1915.73,977.07 1926.14,1139.46 1936.56,1290.19 1946.97,1217.39 1957.38,1198.22 1967.79,1233.07 1978.21,1197.02 1988.62,1145.94 1999.03,1319.39 2009.44,1203.75 2019.86,1220.5 2030.27,1090.68 2040.68,1200.42 2051.1,1181.01 2061.51,1308.58 2071.92,1240.62 2082.33,1083.26 2092.75,1146.11 2103.16,1171.54 2113.57,1159.38 2123.99,1093.14 2134.4,1358.27 2144.81,1208.58 2155.22,1158.31 2165.64,1189.53 2176.05,1123.03 2186.46,1170.68 2196.88,1134.62 2207.29,1151.79 2217.7,1022.07 2228.11,1206.13 2238.53,1299.39 2248.94,1122.43 2259.35,1270.51 2269.77,1185.42 2280.18,1154.59 2290.59,1161.99 \"/>\n",
       "<polyline clip-path=\"url(#clip212)\" style=\"stroke:#e26f46; stroke-linecap:round; stroke-linejoin:round; stroke-width:4; stroke-opacity:1; fill:none\" points=\"218.439,1221.55 228.852,1221.53 239.264,1221.5 249.677,1221.46 260.09,1221.42 270.503,1221.38 280.916,1221.32 291.329,1221.26 301.741,1221.19 312.154,1221.1 322.567,1221 332.98,1220.88 343.393,1220.74 353.805,1220.58 364.218,1220.4 374.631,1220.19 385.044,1219.94 395.457,1219.66 405.87,1219.34 416.282,1218.97 426.695,1218.55 437.108,1218.07 447.521,1217.52 457.934,1216.9 468.347,1216.2 478.759,1215.4 489.172,1214.5 499.585,1213.49 509.998,1212.35 520.411,1211.06 530.824,1209.63 541.236,1208.02 551.649,1206.23 562.062,1204.24 572.475,1202.02 582.888,1199.56 593.301,1196.84 603.713,1193.83 614.126,1190.52 624.539,1186.87 634.952,1182.87 645.365,1178.48 655.777,1173.69 666.19,1168.45 676.603,1162.76 687.016,1156.57 697.429,1149.86 707.842,1142.6 718.254,1134.76 728.667,1126.32 739.08,1117.25 749.493,1107.51 759.906,1097.1 770.319,1085.98 780.731,1074.13 791.144,1061.54 801.557,1048.19 811.97,1034.06 822.383,1019.14 832.796,1003.43 843.208,986.93 853.621,969.632 864.034,951.546 874.447,932.683 884.86,913.059 895.272,892.695 905.685,871.618 916.098,849.86 926.511,827.46 936.924,804.463 947.337,780.918 957.749,756.881 968.162,732.415 978.575,707.587 988.988,682.471 999.401,657.145 1009.81,631.692 1020.23,606.201 1030.64,580.763 1041.05,555.473 1051.46,530.431 1061.88,505.738 1072.29,481.496 1082.7,457.809 1093.12,434.782 1103.53,412.519 1113.94,391.122 1124.35,370.692 1134.77,351.328 1145.18,333.124 1155.59,316.171 1166.01,300.554 1176.42,286.352 1186.83,273.64 1197.24,262.483 1207.66,252.94 1218.07,245.061 1228.48,238.889 1238.9,234.456 1249.31,231.787 1259.72,230.896 1270.13,231.787 1280.55,234.456 1290.96,238.889 1301.37,245.061 1311.79,252.94 1322.2,262.483 1332.61,273.64 1343.02,286.352 1353.44,300.554 1363.85,316.171 1374.26,333.124 1384.68,351.328 1395.09,370.692 1405.5,391.122 1415.91,412.519 1426.33,434.782 1436.74,457.809 1447.15,481.496 1457.57,505.738 1467.98,530.431 1478.39,555.473 1488.8,580.763 1499.22,606.201 1509.63,631.692 1520.04,657.145 1530.45,682.471 1540.87,707.587 1551.28,732.415 1561.69,756.881 1572.11,780.918 1582.52,804.463 1592.93,827.46 1603.34,849.86 1613.76,871.618 1624.17,892.695 1634.58,913.059 1645,932.683 1655.41,951.546 1665.82,969.632 1676.23,986.93 1686.65,1003.43 1697.06,1019.14 1707.47,1034.06 1717.89,1048.19 1728.3,1061.54 1738.71,1074.13 1749.12,1085.98 1759.54,1097.1 1769.95,1107.51 1780.36,1117.25 1790.78,1126.32 1801.19,1134.76 1811.6,1142.6 1822.01,1149.86 1832.43,1156.57 1842.84,1162.76 1853.25,1168.45 1863.67,1173.69 1874.08,1178.48 1884.49,1182.87 1894.9,1186.87 1905.32,1190.52 1915.73,1193.83 1926.14,1196.84 1936.56,1199.56 1946.97,1202.02 1957.38,1204.24 1967.79,1206.23 1978.21,1208.02 1988.62,1209.63 1999.03,1211.06 2009.44,1212.35 2019.86,1213.49 2030.27,1214.5 2040.68,1215.4 2051.1,1216.2 2061.51,1216.9 2071.92,1217.52 2082.33,1218.07 2092.75,1218.55 2103.16,1218.97 2113.57,1219.34 2123.99,1219.66 2134.4,1219.94 2144.81,1220.19 2155.22,1220.4 2165.64,1220.58 2176.05,1220.74 2186.46,1220.88 2196.88,1221 2207.29,1221.1 2217.7,1221.19 2228.11,1221.26 2238.53,1221.32 2248.94,1221.38 2259.35,1221.42 2269.77,1221.46 2280.18,1221.5 2290.59,1221.53 \"/>\n",
       "<path clip-path=\"url(#clip210)\" d=\"M2007.46 250.738 L2279.54 250.738 L2279.54 95.2176 L2007.46 95.2176  Z\" fill=\"#ffffff\" fill-rule=\"evenodd\" fill-opacity=\"1\"/>\n",
       "<polyline clip-path=\"url(#clip210)\" style=\"stroke:#000000; stroke-linecap:round; stroke-linejoin:round; stroke-width:4; stroke-opacity:1; fill:none\" points=\"2007.46,250.738 2279.54,250.738 2279.54,95.2176 2007.46,95.2176 2007.46,250.738 \"/>\n",
       "<polyline clip-path=\"url(#clip210)\" style=\"stroke:#009af9; stroke-linecap:round; stroke-linejoin:round; stroke-width:4; stroke-opacity:1; fill:none\" points=\"2031.87,147.058 2178.3,147.058 \"/>\n",
       "<path clip-path=\"url(#clip210)\" d=\"M2216.55 166.745 Q2214.74 171.375 2213.03 172.787 Q2211.32 174.199 2208.44 174.199 L2205.04 174.199 L2205.04 170.634 L2207.54 170.634 Q2209.3 170.634 2210.27 169.8 Q2211.25 168.967 2212.43 165.865 L2213.19 163.921 L2202.7 138.412 L2207.22 138.412 L2215.32 158.689 L2223.42 138.412 L2227.94 138.412 L2216.55 166.745 Z\" fill=\"#000000\" fill-rule=\"nonzero\" fill-opacity=\"1\" /><path clip-path=\"url(#clip210)\" d=\"M2235.23 160.402 L2242.87 160.402 L2242.87 134.037 L2234.56 135.703 L2234.56 131.444 L2242.82 129.778 L2247.5 129.778 L2247.5 160.402 L2255.13 160.402 L2255.13 164.338 L2235.23 164.338 L2235.23 160.402 Z\" fill=\"#000000\" fill-rule=\"nonzero\" fill-opacity=\"1\" /><polyline clip-path=\"url(#clip210)\" style=\"stroke:#e26f46; stroke-linecap:round; stroke-linejoin:round; stroke-width:4; stroke-opacity:1; fill:none\" points=\"2031.87,198.898 2178.3,198.898 \"/>\n",
       "<path clip-path=\"url(#clip210)\" d=\"M2216.55 218.585 Q2214.74 223.215 2213.03 224.627 Q2211.32 226.039 2208.44 226.039 L2205.04 226.039 L2205.04 222.474 L2207.54 222.474 Q2209.3 222.474 2210.27 221.64 Q2211.25 220.807 2212.43 217.705 L2213.19 215.761 L2202.7 190.252 L2207.22 190.252 L2215.32 210.529 L2223.42 190.252 L2227.94 190.252 L2216.55 218.585 Z\" fill=\"#000000\" fill-rule=\"nonzero\" fill-opacity=\"1\" /><path clip-path=\"url(#clip210)\" d=\"M2238.44 212.242 L2254.76 212.242 L2254.76 216.178 L2232.82 216.178 L2232.82 212.242 Q2235.48 209.488 2240.07 204.858 Q2244.67 200.205 2245.85 198.863 Q2248.1 196.34 2248.98 194.604 Q2249.88 192.844 2249.88 191.155 Q2249.88 188.4 2247.94 186.664 Q2246.01 184.928 2242.91 184.928 Q2240.71 184.928 2238.26 185.692 Q2235.83 186.455 2233.05 188.006 L2233.05 183.284 Q2235.88 182.15 2238.33 181.571 Q2240.78 180.993 2242.82 180.993 Q2248.19 180.993 2251.38 183.678 Q2254.58 186.363 2254.58 190.854 Q2254.58 192.983 2253.77 194.905 Q2252.98 196.803 2250.88 199.395 Q2250.3 200.067 2247.19 203.284 Q2244.09 206.479 2238.44 212.242 Z\" fill=\"#000000\" fill-rule=\"nonzero\" fill-opacity=\"1\" /></svg>\n"
      ]
     },
     "execution_count": 19,
     "metadata": {},
     "output_type": "execute_result"
    }
   ],
   "source": [
    "plot(x_train,[y_train,exp.(-x_train.^2)])"
   ]
  },
  {
   "cell_type": "markdown",
   "metadata": {},
   "source": [
    "## Network + loss function"
   ]
  },
  {
   "cell_type": "code",
   "execution_count": 20,
   "metadata": {
    "tags": []
   },
   "outputs": [
    {
     "data": {
      "text/plain": [
       "0.1"
      ]
     },
     "execution_count": 20,
     "metadata": {},
     "output_type": "execute_result"
    }
   ],
   "source": [
    "Batchsize = 10; # determines the degree of batch noise (smaller batchsize => larger noise)\n",
    "RegWeight=0.001; # lambda for L2 regularization - sets the minimum of the Hessian eigenvalues\n",
    "InitNorm = 0.5; # initial weight norm - not critical\n",
    "σ = Noise_std"
   ]
  },
  {
   "cell_type": "code",
   "execution_count": 21,
   "metadata": {
    "tags": []
   },
   "outputs": [
    {
     "data": {
      "text/plain": [
       "7-element Vector{Float64}:\n",
       " -0.8849978358417646\n",
       " -0.4715797613859544\n",
       " -0.6237790750678033\n",
       " -0.4625189825889467\n",
       "  0.16704447031801\n",
       "  1.996085549214306\n",
       " -1.81800119502579"
      ]
     },
     "execution_count": 21,
     "metadata": {},
     "output_type": "execute_result"
    }
   ],
   "source": [
    "Nweights = 7\n",
    "w = randn(Nweights)"
   ]
  },
  {
   "cell_type": "code",
   "execution_count": 22,
   "metadata": {
    "tags": []
   },
   "outputs": [
    {
     "data": {
      "text/plain": [
       "predict (generic function with 1 method)"
      ]
     },
     "execution_count": 22,
     "metadata": {},
     "output_type": "execute_result"
    }
   ],
   "source": [
    "function predict(w,x) # returns a row of predicted values for each sample in x\n",
    "    return w[5:6]'*tanh.(w[1:2]*x' .+ w[3:4]) .+ w[7]\n",
    "end"
   ]
  },
  {
   "cell_type": "code",
   "execution_count": 23,
   "metadata": {
    "tags": []
   },
   "outputs": [
    {
     "data": {
      "text/plain": [
       "loss (generic function with 1 method)"
      ]
     },
     "execution_count": 23,
     "metadata": {},
     "output_type": "execute_result"
    }
   ],
   "source": [
    "# both x and y are ordered in columns per training data point\n",
    "\n",
    "# Mean squared error component of loss function\n",
    "function sqloss(w,x,y)\n",
    "    return mean(abs2,y'-predict(w,x))*Ntrain/(2*σ^2)\n",
    "end\n",
    "\n",
    "# Regularization component of loss function\n",
    "function reg(w)\n",
    "    return (Ntrain/(2*σ^2))*RegWeight*norm(w)^2\n",
    "end\n",
    "\n",
    "# Total loss function\n",
    "function loss(w,x,y)\n",
    "    return sqloss(w,x,y) + reg(w)\n",
    "end"
   ]
  },
  {
   "cell_type": "markdown",
   "metadata": {},
   "source": [
    "## Gradient"
   ]
  },
  {
   "cell_type": "code",
   "execution_count": 25,
   "metadata": {
    "scrolled": true,
    "tags": []
   },
   "outputs": [],
   "source": [
    "# grad() is a \"functional\" whose input and output is a function (loss). \n",
    "# The output function takes the same arguments as the input function.\n",
    "# Requires input to be a scalar function and evaluates the gradient wrt elements of the first argument.\n",
    "# Let ∇f = grad(f). f = f(x,y,z) => ∇f(x,y,z) = ∇ₓf with identical structure as x\n",
    "sqlossgradient = grad(sqloss);\n",
    "reggradient = grad(reg);\n",
    "lossgradient = grad(loss);"
   ]
  },
  {
   "cell_type": "code",
   "execution_count": 26,
   "metadata": {
    "tags": []
   },
   "outputs": [
    {
     "name": "stdout",
     "output_type": "stream",
     "text": [
      "w = randn(Nweights) = [-0.005737244600260246, 1.7353762138709008, -1.0499249292429236, 0.5753709361353411, -0.36738997477480556, 1.0071663760294896, -1.2757079018632909]\n"
     ]
    },
    {
     "data": {
      "text/plain": [
       "7-element Vector{Float64}:\n",
       "  -4218.943309007426\n",
       "   3108.7313724110572\n",
       "   3369.3041119064433\n",
       "  -6785.04117086698\n",
       "  18277.056182501383\n",
       "  12407.674754519434\n",
       " -23497.22983199982"
      ]
     },
     "execution_count": 26,
     "metadata": {},
     "output_type": "execute_result"
    }
   ],
   "source": [
    "# calculate gradient at the initial w\n",
    "# dw has dimensions of w: each weight wᵢ is replaced with the ∂/∂wᵢ\n",
    "Random.seed!(2);\n",
    "@show w = randn(Nweights)\n",
    "dw = lossgradient(w,x_train,y_train)"
   ]
  },
  {
   "cell_type": "markdown",
   "metadata": {},
   "source": [
    "## Training function (with replacement)"
   ]
  },
  {
   "cell_type": "code",
   "execution_count": 14,
   "metadata": {
    "tags": []
   },
   "outputs": [
    {
     "data": {
      "text/plain": [
       "batchtrain! (generic function with 1 method)"
      ]
     },
     "execution_count": 14,
     "metadata": {},
     "output_type": "execute_result"
    }
   ],
   "source": [
    "function batchtrain!(w,lr)\n",
    "perm = randperm(Ntrain)[1:Batchsize]; # a random permutation of [1:Ntrain] - pick batches as chunks from this array        # construct batch\n",
    "x = [x_train[n] for n in perm]\n",
    "y = [y_train[n] for n in perm]\n",
    "# calculate gradient over the batch\n",
    "dw = lossgradient(w,x,y);\n",
    "#update weights\n",
    "    w .-= lr*dw # \".\" does broadcasting. `this is the same as for i=1:Nweights w[i] -= lr*dw[i] end\n",
    "return w\n",
    "end"
   ]
  },
  {
   "cell_type": "markdown",
   "metadata": {},
   "source": [
    "## Initial training run"
   ]
  },
  {
   "cell_type": "code",
   "execution_count": 27,
   "metadata": {
    "tags": []
   },
   "outputs": [],
   "source": [
    "w = rand(Nweights); w/= norm(w)/InitNorm\n",
    "Nmarkov = 200000; # For a quick training run\n",
    "η = 1e-7; # Learning rate"
   ]
  },
  {
   "cell_type": "code",
   "execution_count": 28,
   "metadata": {
    "tags": []
   },
   "outputs": [
    {
     "data": {
      "text/plain": [
       "34.46734404563904"
      ]
     },
     "execution_count": 28,
     "metadata": {},
     "output_type": "execute_result"
    }
   ],
   "source": [
    "# Initial run - trajectory stored in w_training\n",
    "w_training = zeros(Nweights,Nmarkov)\n",
    "time0 = time()\n",
    "for n = 1:Nmarkov\n",
    "    w_training[:,n] = batchtrain!(w,η)\n",
    "end\n",
    "time()-time0"
   ]
  },
  {
   "cell_type": "markdown",
   "metadata": {},
   "source": [
    "## Diffusion, Hessian, Covariance Matrices"
   ]
  },
  {
   "cell_type": "code",
   "execution_count": 29,
   "metadata": {
    "tags": []
   },
   "outputs": [
    {
     "data": {
      "text/plain": [
       "diffusionmatrix (generic function with 1 method)"
      ]
     },
     "execution_count": 29,
     "metadata": {},
     "output_type": "execute_result"
    }
   ],
   "source": [
    "function diffusionmatrix(w,xt,yt,Nb,lr)\n",
    "    Nweights = length(w) # number of weights, that is, dimensions of the diffusion tensor\n",
    "    Nt = length(xt) # number of training examples to be summed over\n",
    "    prefac = (Nt-Nb)/(2*Nb*(Nt-1))\n",
    "    V = zeros(Nweights,Nt) # initialize the diffusion matrix\n",
    "    for i=1:Nt\n",
    "        x=xt[i]\n",
    "        y=yt[i]\n",
    "        V[:,i] = lossgradient(w,[x],[y])\n",
    "    end\n",
    "    V /= Nt;\n",
    "    dL = sqlossgradient(w,xt,yt);\n",
    "    \n",
    "    return lr^2 * prefac * (Nt*V*V' - dL*dL')\n",
    "end"
   ]
  },
  {
   "cell_type": "code",
   "execution_count": 30,
   "metadata": {
    "tags": []
   },
   "outputs": [
    {
     "data": {
      "text/plain": [
       "diffusionmatrix_num (generic function with 1 method)"
      ]
     },
     "execution_count": 30,
     "metadata": {},
     "output_type": "execute_result"
    }
   ],
   "source": [
    "# Calculate the diffusion tensor by sampling the noise\n",
    "function diffusionmatrix_num(w,n,lr) # n: number of samples used for estimation\n",
    "    wlist = zeros(Nweights,n)\n",
    "    \n",
    "    for i=1:n\n",
    "        ww = copy(w)       \n",
    "        wlist[:,i] = batchtrain!(ww,lr)\n",
    "    end\n",
    "\n",
    "    # subtract mean\n",
    "    wlist .-= sum(wlist[:,i] for i=1:n)/n\n",
    "\n",
    "    D = zeros(Nweights,Nweights)\n",
    "    for α=1:Nweights\n",
    "        for β=1:Nweights\n",
    "            for i=1:n\n",
    "                D[α,β] += wlist[α,i]*wlist[β,i]\n",
    "            end\n",
    "            D[α,β] /= n;\n",
    "        end\n",
    "    end\n",
    "    return 0.5*D\n",
    "end"
   ]
  },
  {
   "cell_type": "code",
   "execution_count": 31,
   "metadata": {
    "tags": []
   },
   "outputs": [
    {
     "data": {
      "text/plain": [
       "lossgradj (generic function with 1 method)"
      ]
     },
     "execution_count": 31,
     "metadata": {},
     "output_type": "execute_result"
    }
   ],
   "source": [
    "# To calculate the Hessian, define a scalar function returning ∂L/∂wⱼ\n",
    "function lossgradj(w,x,y,j)\n",
    "    return lossgradient(w,x,y)[j]\n",
    "end"
   ]
  },
  {
   "cell_type": "code",
   "execution_count": 32,
   "metadata": {
    "tags": []
   },
   "outputs": [
    {
     "data": {
      "text/plain": [
       "(::AutoGrad.var\"#gradfun#6\"{AutoGrad.var\"#gradfun#5#7\"{typeof(lossgradj), Int64, Bool}}) (generic function with 1 method)"
      ]
     },
     "execution_count": 32,
     "metadata": {},
     "output_type": "execute_result"
    }
   ],
   "source": [
    "# Define the function returning ∂²L/∂wᵢ∂wⱼ for all i, given j (a column of the Hessian)\n",
    "lossgradgrad = grad(lossgradj)"
   ]
  },
  {
   "cell_type": "code",
   "execution_count": 33,
   "metadata": {
    "tags": []
   },
   "outputs": [
    {
     "data": {
      "text/plain": [
       "hessianmatrix (generic function with 1 method)"
      ]
     },
     "execution_count": 33,
     "metadata": {},
     "output_type": "execute_result"
    }
   ],
   "source": [
    "function hessianmatrix(w,x,y)\n",
    "    Nw = length(w);\n",
    "    Hess = zeros(Nw,Nw);\n",
    "    for j=1:Nw\n",
    "        Hess[:,j] = lossgradgrad(w,x,y,j)\n",
    "    end\n",
    "    return Hess\n",
    "end"
   ]
  },
  {
   "cell_type": "code",
   "execution_count": 34,
   "metadata": {
    "tags": []
   },
   "outputs": [
    {
     "data": {
      "text/plain": [
       "covariancematrix (generic function with 1 method)"
      ]
     },
     "execution_count": 34,
     "metadata": {},
     "output_type": "execute_result"
    }
   ],
   "source": [
    "# Calculate the theoretically predicted covariance matrix from the Lyapunov relation (Eq. 21)\n",
    "function covariancematrix(D,H,lr) # is a function of the learning rate\n",
    "    F = eigen(H);\n",
    "    h = F.values\n",
    "    O = F.vectors\n",
    "    Nw = length(h)\n",
    "    ODO = O'*D*O;\n",
    "    Delta = zeros(Nw,Nw);\n",
    "    for i=1:Nw\n",
    "        for j=1:Nw\n",
    "            Delta[i,j] = ODO[i,j]/(h[i]+h[j])\n",
    "        end\n",
    "    end\n",
    "    return (2/lr)*O*Delta*O'\n",
    "end"
   ]
  },
  {
   "cell_type": "markdown",
   "metadata": {},
   "source": [
    "### Use Newton's Method to find the minimum of loss"
   ]
  },
  {
   "cell_type": "code",
   "execution_count": 40,
   "metadata": {
    "tags": []
   },
   "outputs": [],
   "source": [
    "# Using Newton's method get the the true minimum of the full loss function\n",
    "w = w_training[:,end];\n",
    "# implement Newton's method to find the true minimum. 4 steps are enough!\n",
    "for n=1:20\n",
    "    Hess = hessianmatrix(w,x_train,y_train)\n",
    "    gradw = lossgradient(w,x_train,y_train)\n",
    "    dw = inv(Hess)*gradw\n",
    "    for i=1:Nweights\n",
    "        w[i] -= dw[i]\n",
    "    end\n",
    "end\n",
    "wmin = w[:,1];"
   ]
  },
  {
   "cell_type": "code",
   "execution_count": 41,
   "metadata": {
    "tags": []
   },
   "outputs": [
    {
     "data": {
      "text/plain": [
       "7×1 Matrix{Float64}:\n",
       "  1.2833313725790076\n",
       "  1.2307473940611995\n",
       "  0.7045806188690756\n",
       " -0.5317508554411805\n",
       "  0.92781446509604\n",
       " -0.9088462496180023\n",
       " -0.008841779321639548"
      ]
     },
     "execution_count": 41,
     "metadata": {},
     "output_type": "execute_result"
    }
   ],
   "source": [
    "# Uncomment to load previously calculated minimum\n",
    "#wmin=readdlm(\"wmin.txt\")"
   ]
  },
  {
   "cell_type": "code",
   "execution_count": 42,
   "metadata": {
    "tags": []
   },
   "outputs": [
    {
     "data": {
      "text/plain": [
       "7×1 Matrix{Float64}:\n",
       "  7.105427357601002e-15\n",
       " -1.0658141036401503e-14\n",
       " -1.7053025658242404e-13\n",
       "  1.6342482922482304e-13\n",
       " -1.8829382497642655e-13\n",
       "  1.1368683772161603e-13\n",
       " -1.5462631175466868e-13"
      ]
     },
     "execution_count": 42,
     "metadata": {},
     "output_type": "execute_result"
    }
   ],
   "source": [
    "# Check to see if gradient is zero at the minimum\n",
    "lossgradient(wmin,x_train,y_train)"
   ]
  },
  {
   "cell_type": "markdown",
   "metadata": {},
   "source": [
    "### Hessian at the loss minimum"
   ]
  },
  {
   "cell_type": "code",
   "execution_count": 43,
   "metadata": {
    "tags": []
   },
   "outputs": [
    {
     "data": {
      "text/plain": [
       "7×7 Matrix{Float64}:\n",
       "  1564.82    -434.384  -1705.16     …   1819.16      2916.94     -2618.86\n",
       "  -434.384   1255.06     127.801       -2681.73     -1938.41     -2099.4\n",
       " -1705.16     127.801   3079.43           -7.17973  -3294.7       4810.69\n",
       "   127.801   1331.01   -1676.18        -3365.27        -3.56877  -4912.82\n",
       "  1819.16   -2681.73      -7.17973     14835.0      12254.6       3555.84\n",
       "  2916.94   -1938.41   -3294.7      …  12254.6      14614.4      -2975.88\n",
       " -2618.86   -2099.4     4810.69         3555.84     -2975.88     20020.0"
      ]
     },
     "execution_count": 43,
     "metadata": {},
     "output_type": "execute_result"
    }
   ],
   "source": [
    "Hessmin = hessianmatrix(wmin,x_train,y_train)"
   ]
  },
  {
   "cell_type": "code",
   "execution_count": 44,
   "metadata": {
    "tags": []
   },
   "outputs": [
    {
     "data": {
      "text/plain": [
       "([55.02366427863232, 58.51554270757967, 397.2543687273366, 1848.5641004652236, 3097.666373263998, 24658.45687004527, 28317.70872412742], 37724.118432321644)"
      ]
     },
     "execution_count": 44,
     "metadata": {},
     "output_type": "execute_result"
    }
   ],
   "source": [
    "eigvals(Hessmin), norm(Hessmin)"
   ]
  },
  {
   "cell_type": "markdown",
   "metadata": {},
   "source": [
    "### Diffusion tensor at the loss minimum"
   ]
  },
  {
   "cell_type": "code",
   "execution_count": 45,
   "metadata": {
    "tags": []
   },
   "outputs": [
    {
     "data": {
      "text/plain": [
       "7×7 Matrix{Float64}:\n",
       "  1.72743e-10  -5.03373e-11  -1.90879e-10  …   3.21645e-10  -2.88537e-10\n",
       " -5.03373e-11   1.35119e-10   1.24197e-11     -2.02322e-10  -2.23702e-10\n",
       " -1.90879e-10   1.24197e-11   3.13806e-10     -3.49195e-10   5.00337e-10\n",
       "  1.30115e-11   1.48156e-10  -1.61664e-10     -1.60646e-11  -5.06353e-10\n",
       "  1.99773e-10  -2.87375e-10  -2.33141e-11      1.07445e-9    2.37448e-10\n",
       "  3.21645e-10  -2.02322e-10  -3.49195e-10  …   1.3014e-9    -4.24224e-10\n",
       " -2.88537e-10  -2.23702e-10   5.00337e-10     -4.24224e-10   1.85885e-9"
      ]
     },
     "execution_count": 45,
     "metadata": {},
     "output_type": "execute_result"
    }
   ],
   "source": [
    "# diffusion tensor at the loss minimum (using VV')\n",
    "Dmin = diffusionmatrix(wmin,x_train,y_train,Batchsize,η)"
   ]
  },
  {
   "cell_type": "code",
   "execution_count": 46,
   "metadata": {
    "tags": []
   },
   "outputs": [
    {
     "data": {
      "text/plain": [
       "7×7 Matrix{Float64}:\n",
       " 1.00201   0.994289  0.999487  1.00854   1.00002   0.999346  0.996855\n",
       " 0.994289  1.00204   1.03021   0.997688  0.997213  0.999749  1.00314\n",
       " 0.999487  1.03021   1.00083   1.00215   1.03485   1.00413   0.997358\n",
       " 1.00854   0.997688  1.00215   1.00092   0.995031  0.853517  1.00186\n",
       " 1.00002   0.997213  1.03485   0.995031  0.996624  0.997521  1.00221\n",
       " 0.999346  0.999749  1.00413   0.853517  0.997521  1.00035   0.998335\n",
       " 0.996855  1.00314   0.997358  1.00186   1.00221   0.998335  0.999164"
      ]
     },
     "execution_count": 46,
     "metadata": {},
     "output_type": "execute_result"
    }
   ],
   "source": [
    "# compare with D calculated numerically (ratio of elements of both matrices)\n",
    "Dmin_num = diffusionmatrix_num(wmin,200000,η);\n",
    "Dmin_num ./ Dmin"
   ]
  },
  {
   "cell_type": "code",
   "execution_count": 47,
   "metadata": {
    "tags": []
   },
   "outputs": [
    {
     "name": "stdout",
     "output_type": "stream",
     "text": [
      "isapprox(Dmin_num, Dmin, rtol = 0.05) = true\n"
     ]
    },
    {
     "data": {
      "text/plain": [
       "true"
      ]
     },
     "execution_count": 47,
     "metadata": {},
     "output_type": "execute_result"
    }
   ],
   "source": [
    "@show isapprox(Dmin_num,Dmin, rtol=0.05)"
   ]
  },
  {
   "cell_type": "markdown",
   "metadata": {},
   "source": [
    "### Covariance matrix as a function of Hessian and Diffusion matrix"
   ]
  },
  {
   "cell_type": "code",
   "execution_count": 48,
   "metadata": {
    "tags": []
   },
   "outputs": [
    {
     "data": {
      "text/plain": [
       "7×7 Matrix{Float64}:\n",
       "  7.7408e-7   -6.05204e-9  -2.32103e-7  …  -3.50794e-8  -2.93708e-8\n",
       " -6.05204e-9   7.53025e-7   3.1365e-8      -1.22938e-7  -5.55732e-8\n",
       " -2.32103e-7   3.1365e-8    6.88296e-7     -1.89337e-7   2.92516e-8\n",
       " -5.1893e-8    1.55486e-7   8.62246e-8      1.88516e-7  -6.187e-8\n",
       "  8.23315e-8   6.05824e-8   1.78956e-7      2.36217e-7  -2.72374e-8\n",
       " -3.50794e-8  -1.22938e-7  -1.89337e-7  …   6.23246e-7  -8.45867e-8\n",
       " -2.93708e-8  -5.55732e-8   2.92516e-8     -8.45867e-8   8.88879e-7"
      ]
     },
     "execution_count": 48,
     "metadata": {},
     "output_type": "execute_result"
    }
   ],
   "source": [
    "Covmin = covariancematrix(Dmin,Hessmin,η)"
   ]
  },
  {
   "cell_type": "code",
   "execution_count": 49,
   "metadata": {
    "tags": []
   },
   "outputs": [
    {
     "data": {
      "text/plain": [
       "1.1767074244839722e-16"
      ]
     },
     "execution_count": 49,
     "metadata": {},
     "output_type": "execute_result"
    }
   ],
   "source": [
    "# verify that the math is right: HC+CH = (2/η)D\n",
    "norm(Hessmin*Covmin + Covmin*Hessmin - (2/η)*Dmin) # should be zero"
   ]
  },
  {
   "cell_type": "markdown",
   "metadata": {},
   "source": [
    "## Steady state"
   ]
  },
  {
   "cell_type": "code",
   "execution_count": 50,
   "metadata": {
    "tags": []
   },
   "outputs": [],
   "source": [
    "η=1e-7;\n",
    "Dmin = diffusionmatrix(wmin,x_train,y_train,Batchsize,η);\n",
    "Covmin = covariancematrix(Dmin,Hessmin,η);"
   ]
  },
  {
   "cell_type": "code",
   "execution_count": 51,
   "metadata": {
    "tags": []
   },
   "outputs": [],
   "source": [
    "# Directory for output files\n",
    "dir=\"./\";"
   ]
  },
  {
   "cell_type": "code",
   "execution_count": 52,
   "metadata": {
    "tags": []
   },
   "outputs": [],
   "source": [
    "Random.seed!(1)\n",
    "Nmarkov = 3*10^7; # number of Markov steps"
   ]
  },
  {
   "cell_type": "code",
   "execution_count": 53,
   "metadata": {
    "tags": []
   },
   "outputs": [],
   "source": [
    "w = copy(wmin); # start from the minimum of the potential"
   ]
  },
  {
   "cell_type": "code",
   "execution_count": 54,
   "metadata": {
    "tags": []
   },
   "outputs": [
    {
     "data": {
      "text/plain": [
       "true"
      ]
     },
     "execution_count": 54,
     "metadata": {},
     "output_type": "execute_result"
    }
   ],
   "source": [
    "# If the trajectory file exists, the code will load it instead of rerunning the trajectory.\n",
    "fname = dir*\"Gaussian_wr_ss-$Nmarkov-$η.jld2\";\n",
    "isfile(fname)"
   ]
  },
  {
   "cell_type": "code",
   "execution_count": 55,
   "metadata": {
    "scrolled": true,
    "tags": []
   },
   "outputs": [
    {
     "name": "stdout",
     "output_type": "stream",
     "text": [
      "summary(w_ss) = \"7×30000000 Matrix{Float64}\"\n"
     ]
    },
    {
     "data": {
      "text/plain": [
       "\"7×30000000 Matrix{Float64}\""
      ]
     },
     "execution_count": 55,
     "metadata": {},
     "output_type": "execute_result"
    }
   ],
   "source": [
    "fname = dir*\"Gaussian_wr_ss-$Nmarkov-$η.jld2\"\n",
    "if !isfile(fname)\n",
    "    w_ss = zeros(Nweights,Nmarkov)\n",
    "    time0 = time() # takes about an hour for Nmarkov = 10^7\n",
    "    for n in progress(1:Nmarkov)\n",
    "        w_ss[:,n] = batchtrain!(w,η)\n",
    "    end\n",
    "    @show time()-time0\n",
    "    Knet.save(fname, \"w_ss\", w_ss)\n",
    "else\n",
    "    w_ss = Knet.load(fname, \"w_ss\");\n",
    "end\n",
    "@show summary(w_ss)"
   ]
  },
  {
   "cell_type": "markdown",
   "metadata": {},
   "source": [
    "### Fit a multivariable Gaussian to the stationary distribution"
   ]
  },
  {
   "cell_type": "code",
   "execution_count": 56,
   "metadata": {
    "tags": []
   },
   "outputs": [],
   "source": [
    "Fit_ss = fit_mle(MvNormal,w_ss);"
   ]
  },
  {
   "cell_type": "markdown",
   "metadata": {},
   "source": [
    "### Steady-state mean\n"
   ]
  },
  {
   "cell_type": "code",
   "execution_count": 57,
   "metadata": {
    "tags": []
   },
   "outputs": [],
   "source": [
    "meanw = Distributions.mean(Fit_ss);"
   ]
  },
  {
   "cell_type": "code",
   "execution_count": 58,
   "metadata": {
    "tags": []
   },
   "outputs": [
    {
     "data": {
      "text/plain": [
       "5.224932402088824e-5"
      ]
     },
     "execution_count": 58,
     "metadata": {},
     "output_type": "execute_result"
    }
   ],
   "source": [
    "# Check to see the relative difference between numeric mean and theoretical prediction for loss minimum\n",
    "norm(meanw-wmin)/norm(wmin)"
   ]
  },
  {
   "cell_type": "markdown",
   "metadata": {},
   "source": [
    "### Covariance matrix (from ss-trajectory)"
   ]
  },
  {
   "cell_type": "code",
   "execution_count": 59,
   "metadata": {
    "tags": []
   },
   "outputs": [],
   "source": [
    "Cov_ss = Distributions.cov(Fit_ss);"
   ]
  },
  {
   "cell_type": "markdown",
   "metadata": {},
   "source": [
    "## Stochastic area matrix (circulation)"
   ]
  },
  {
   "cell_type": "code",
   "execution_count": 53,
   "metadata": {
    "tags": []
   },
   "outputs": [
    {
     "name": "stderr",
     "output_type": "stream",
     "text": [
      "┣████████████████████┫ [100.00%, 6/6, 00:44/00:44, 7.27s/i] /s] \n"
     ]
    },
    {
     "name": "stdout",
     "output_type": "stream",
     "text": [
      "time() - time0 = 43.647603034973145\n"
     ]
    }
   ],
   "source": [
    "# Numerically calculate stochastic area matrix from the trajectory\n",
    "\n",
    "function arealvelocity(traj,x,y,center)\n",
    "    N = length(traj[1,:]) # trajectory length\n",
    "    Area=zeros(N-1);\n",
    "    Areasum=0\n",
    "    for n=1:N-1\n",
    "        # construct vectors connecting the trajectory points to the center (mean)\n",
    "        v1=[traj[x,n]-center[x],traj[y,n]-center[y],0]\n",
    "        v2=[traj[x,n+1]-center[x],traj[y,n+1]-center[y],0]\n",
    "        Areasum += cross(v1,v2)[3] # this is twice the area of the triangle\n",
    "    end\n",
    "    return Areasum/(2*(N-1))\n",
    "end\n",
    "\n",
    "fname = dir*\"data/Gaussian_wr_arealvelocity_$Nmarkov.jld2\"\n",
    "if !isfile(fname)\n",
    "    Av = zeros(Nweights,Nweights)\n",
    "    time0 = time() # takes about 11 minutes for Nmarkov = 10^7\n",
    "    for i in progress(1:Nweights-1)\n",
    "        for j = i+1:Nweights # av is antisymmetric\n",
    "            Av[i,j] = arealvelocity(w_ss,i,j,meanw)\n",
    "            Av[j,i] = -Av[i,j]\n",
    "        end\n",
    "    end\n",
    "    #Av /= η^2\n",
    "    @show time()-time0\n",
    "    \n",
    "    Knet.save(fname, \"Av\", Av)\n",
    "else\n",
    "    Av = Knet.load(fname, \"Av\");\n",
    "end"
   ]
  },
  {
   "cell_type": "code",
   "execution_count": 54,
   "metadata": {
    "tags": []
   },
   "outputs": [
    {
     "data": {
      "text/plain": [
       "7×7 Matrix{Float64}:\n",
       "  0.0          3.7463e-8    6.80453e-8  …  -4.01849e-7   2.09829e-7\n",
       " -3.7463e-8    0.0          4.72313e-8      4.48637e-7   4.79025e-7\n",
       " -6.80453e-8  -4.72313e-8   0.0             1.7113e-7   -2.50299e-7\n",
       "  5.04414e-8   4.65573e-9  -3.33202e-9      5.14848e-7   4.94965e-7\n",
       "  2.89421e-7  -4.80836e-7  -1.22929e-7     -2.85001e-7  -3.85546e-7\n",
       "  4.01849e-7  -4.48637e-7  -1.7113e-7   …   0.0         -4.44331e-8\n",
       " -2.09829e-7  -4.79025e-7   2.50299e-7      4.44331e-8   0.0"
      ]
     },
     "execution_count": 54,
     "metadata": {},
     "output_type": "execute_result"
    }
   ],
   "source": [
    "# Numerically calculated area matrix\n",
    "Av"
   ]
  },
  {
   "cell_type": "code",
   "execution_count": 55,
   "metadata": {
    "tags": []
   },
   "outputs": [
    {
     "data": {
      "text/plain": [
       "7×7 Matrix{Float64}:\n",
       "  0.0          3.03345e-8   6.5987e-8    …  -4.0179e-7    1.81625e-7\n",
       " -3.03345e-8   0.0          4.44127e-8       4.46885e-7   4.7232e-7\n",
       " -6.5987e-8   -4.44127e-8   2.77556e-22      1.74996e-7  -2.11604e-7\n",
       "  5.81334e-8   1.34349e-8  -6.02519e-9       5.05989e-7   4.72246e-7\n",
       "  2.90052e-7  -4.85564e-7  -1.29732e-7      -2.70548e-7  -3.50809e-7\n",
       "  4.0179e-7   -4.46885e-7  -1.74996e-7   …   0.0         -4.703e-8\n",
       " -1.81625e-7  -4.7232e-7    2.11604e-7       4.703e-8     0.0"
      ]
     },
     "execution_count": 55,
     "metadata": {},
     "output_type": "execute_result"
    }
   ],
   "source": [
    "# Theoretically predicted area matrix\n",
    "Av_theo=(η/2)*(Hessmin*Covmin - Covmin*Hessmin)"
   ]
  },
  {
   "cell_type": "markdown",
   "metadata": {},
   "source": [
    "## Fluctuation Theorems"
   ]
  },
  {
   "cell_type": "code",
   "execution_count": 60,
   "metadata": {
    "tags": []
   },
   "outputs": [
    {
     "data": {
      "text/plain": [
       "7×7 Matrix{Float64}:\n",
       " -1.0842e-26    3.03345e-12   6.5987e-12   …  -4.0179e-11    1.81625e-11\n",
       " -3.03345e-12   0.0           4.44127e-12      4.46885e-11   4.7232e-11\n",
       " -6.5987e-12   -4.44127e-12   4.33681e-26      1.74996e-11  -2.11604e-11\n",
       "  5.81334e-12   1.34349e-12  -6.02519e-13      5.05989e-11   4.72246e-11\n",
       "  2.90052e-11  -4.85564e-11  -1.29732e-11     -2.70548e-11  -3.50809e-11\n",
       "  4.0179e-11   -4.46885e-11  -1.74996e-11  …   0.0          -4.703e-12\n",
       " -1.81625e-11  -4.7232e-11    2.11604e-11      4.703e-12     0.0"
      ]
     },
     "execution_count": 60,
     "metadata": {},
     "output_type": "execute_result"
    }
   ],
   "source": [
    "# Circulation matrix C\n",
    "C = (η/2)*(Hessmin*Covmin-Covmin*Hessmin)"
   ]
  },
  {
   "cell_type": "code",
   "execution_count": 61,
   "metadata": {
    "tags": []
   },
   "outputs": [],
   "source": [
    "# -C * covariance matrix (useful to calculate the velocity field)\n",
    "m1 = -C*inv(Covmin);"
   ]
  },
  {
   "cell_type": "code",
   "execution_count": 62,
   "metadata": {
    "tags": []
   },
   "outputs": [],
   "source": [
    "# inverse of the diffusion matrix (useful to calculate entropy production)\n",
    "m2 = inv(Dmin);"
   ]
  },
  {
   "cell_type": "code",
   "execution_count": 63,
   "metadata": {
    "tags": []
   },
   "outputs": [],
   "source": [
    "# subtracting the mean from the trajectory\n",
    "dth = w_ss .- meanw;"
   ]
  },
  {
   "cell_type": "code",
   "execution_count": 64,
   "metadata": {
    "tags": []
   },
   "outputs": [],
   "source": [
    "# single time step displacements\n",
    "dw = w_ss[:,2:end] - w_ss[:,1:end-1];"
   ]
  },
  {
   "cell_type": "code",
   "execution_count": 65,
   "metadata": {
    "tags": []
   },
   "outputs": [],
   "source": [
    "# epN is the entropy production for single time step trajectories (subsampled every 150 steps), starting with time N\n",
    "ep=diag((m1*dth[:,1:150:end])'*m2*dw[:,1:150:end]);\n",
    "ep2=diag((m1*dth[:,2:150:end])'*m2*dw[:,2:150:end]);\n",
    "ep3=diag((m1*dth[:,3:150:end])'*m2*dw[:,3:150:end]);"
   ]
  },
  {
   "cell_type": "code",
   "execution_count": 69,
   "metadata": {
    "tags": []
   },
   "outputs": [
    {
     "data": {
      "text/plain": [
       "0.999973802421733"
      ]
     },
     "execution_count": 69,
     "metadata": {},
     "output_type": "execute_result"
    }
   ],
   "source": [
    "# checking the integral fluctuation theorem for trajectories of length 1 (should be approx. equal to 1)\n",
    "mean(exp.(-ep))"
   ]
  },
  {
   "cell_type": "code",
   "execution_count": 71,
   "metadata": {
    "tags": []
   },
   "outputs": [
    {
     "data": {
      "text/plain": [
       "0.9999384575061235"
      ]
     },
     "execution_count": 71,
     "metadata": {},
     "output_type": "execute_result"
    }
   ],
   "source": [
    "# checking the integral fluctuation theorem for trajectories of length 2 (should be approx. equal to 1)\n",
    "mean(exp.(-ep-ep2))"
   ]
  },
  {
   "cell_type": "code",
   "execution_count": 73,
   "metadata": {
    "tags": []
   },
   "outputs": [
    {
     "data": {
      "text/plain": [
       "0.9999316491960109"
      ]
     },
     "execution_count": 73,
     "metadata": {},
     "output_type": "execute_result"
    }
   ],
   "source": [
    "# checking the integral fluctuation theorem for trajectories of length 3 (should be approx. equal to 1)\n",
    "mean(exp.(-ep-ep2-ep3))"
   ]
  },
  {
   "cell_type": "code",
   "execution_count": 74,
   "metadata": {
    "tags": []
   },
   "outputs": [
    {
     "data": {
      "text/plain": [
       "0.00031482847448289646"
      ]
     },
     "execution_count": 74,
     "metadata": {},
     "output_type": "execute_result"
    }
   ],
   "source": [
    "# checking the prediction of Eq. 29 for the mean entropy production of single time step trajectories\n",
    "right_hand_side = -tr(C*inv(Dmin)*C*inv(Covmin))"
   ]
  },
  {
   "cell_type": "code",
   "execution_count": 75,
   "metadata": {
    "tags": []
   },
   "outputs": [
    {
     "data": {
      "text/plain": [
       "0.0003444239819867815"
      ]
     },
     "execution_count": 75,
     "metadata": {},
     "output_type": "execute_result"
    }
   ],
   "source": [
    "left_hand_side = mean(ep)"
   ]
  },
  {
   "cell_type": "code",
   "execution_count": 78,
   "metadata": {
    "tags": []
   },
   "outputs": [
    {
     "data": {
      "text/plain": [
       "Histogram{Int64, 1, Tuple{StepRangeLen{Float64, Base.TwicePrecision{Float64}, Base.TwicePrecision{Float64}, Int64}}}\n",
       "edges:\n",
       "  0.8:0.004:1.2\n",
       "weights: [0, 1, 1, 0, 1, 2, 9, 3, 5, 4  …  4, 9, 10, 3, 2, 4, 2, 1, 5, 2]\n",
       "closed: left\n",
       "isdensity: false"
      ]
     },
     "execution_count": 78,
     "metadata": {},
     "output_type": "execute_result"
    }
   ],
   "source": [
    "# Construct histogram of exp(-σ) for single time step trajectories\n",
    "histrange=0.8:0.004:1.2\n",
    "efith = fit(Histogram,exp.(-ep),histrange)"
   ]
  },
  {
   "cell_type": "code",
   "execution_count": 79,
   "metadata": {
    "tags": []
   },
   "outputs": [
    {
     "data": {
      "text/plain": [
       "Histogram{Int64, 1, Tuple{StepRangeLen{Float64, Base.TwicePrecision{Float64}, Base.TwicePrecision{Float64}, Int64}}}\n",
       "edges:\n",
       "  -0.15:0.01:0.15\n",
       "weights: [23, 49, 75, 119, 190, 273, 477, 782, 1315, 2273  …  2456, 1407, 845, 529, 307, 198, 120, 61, 59, 31]\n",
       "closed: left\n",
       "isdensity: false"
      ]
     },
     "execution_count": 79,
     "metadata": {},
     "output_type": "execute_result"
    }
   ],
   "source": [
    "# Construct histogram of σ for single time step trajectories\n",
    "ehistrange=-0.15:0.01:0.15\n",
    "epfith = fit(Histogram,ep,ehistrange)"
   ]
  }
 ],
 "metadata": {
  "@webio": {
   "lastCommId": null,
   "lastKernelId": null
  },
  "kernelspec": {
   "display_name": "Julia 1.7.2",
   "language": "julia",
   "name": "julia-1.7"
  },
  "language_info": {
   "file_extension": ".jl",
   "mimetype": "application/julia",
   "name": "julia",
   "version": "1.8.5"
  }
 },
 "nbformat": 4,
 "nbformat_minor": 4
}
